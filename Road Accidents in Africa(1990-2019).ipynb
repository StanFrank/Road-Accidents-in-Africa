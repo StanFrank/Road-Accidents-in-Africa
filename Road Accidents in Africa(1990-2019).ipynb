{
 "cells": [
  {
   "cell_type": "markdown",
   "id": "ad16ec51",
   "metadata": {},
   "source": [
    "# DATA CLEANING"
   ]
  },
  {
   "cell_type": "code",
   "execution_count": 1,
   "id": "c32e4ed0",
   "metadata": {},
   "outputs": [],
   "source": [
    "#Importing the necessary modules\n",
    "import pandas as pd\n",
    "import numpy as np\n",
    "import matplotlib.pyplot as plt\n",
    "import seaborn as sns"
   ]
  },
  {
   "cell_type": "code",
   "execution_count": 136,
   "id": "bcaa2145",
   "metadata": {},
   "outputs": [],
   "source": [
    "#Importing my dataset\n",
    "df=pd.read_excel(r'C:\\Users\\HP\\Documents\\PYTHON 101\\PRACTICE\\Road Accidents\\Accidents in Africa.xlsx')"
   ]
  },
  {
   "cell_type": "code",
   "execution_count": 16,
   "id": "2ad5cb82",
   "metadata": {},
   "outputs": [
    {
     "data": {
      "text/html": [
       "<div>\n",
       "<style scoped>\n",
       "    .dataframe tbody tr th:only-of-type {\n",
       "        vertical-align: middle;\n",
       "    }\n",
       "\n",
       "    .dataframe tbody tr th {\n",
       "        vertical-align: top;\n",
       "    }\n",
       "\n",
       "    .dataframe thead th {\n",
       "        text-align: right;\n",
       "    }\n",
       "</style>\n",
       "<table border=\"1\" class=\"dataframe\">\n",
       "  <thead>\n",
       "    <tr style=\"text-align: right;\">\n",
       "      <th></th>\n",
       "      <th>Entity</th>\n",
       "      <th>Code</th>\n",
       "      <th>Year</th>\n",
       "      <th>Deaths</th>\n",
       "      <th>Sidedness</th>\n",
       "      <th>Historical_Population</th>\n",
       "    </tr>\n",
       "  </thead>\n",
       "  <tbody>\n",
       "    <tr>\n",
       "      <th>0</th>\n",
       "      <td>Algeria</td>\n",
       "      <td>DZA</td>\n",
       "      <td>1990</td>\n",
       "      <td>13438</td>\n",
       "      <td>0</td>\n",
       "      <td>25758872</td>\n",
       "    </tr>\n",
       "    <tr>\n",
       "      <th>1</th>\n",
       "      <td>Algeria</td>\n",
       "      <td>DZA</td>\n",
       "      <td>1991</td>\n",
       "      <td>13120</td>\n",
       "      <td>0</td>\n",
       "      <td>26400468</td>\n",
       "    </tr>\n",
       "    <tr>\n",
       "      <th>2</th>\n",
       "      <td>Algeria</td>\n",
       "      <td>DZA</td>\n",
       "      <td>1992</td>\n",
       "      <td>13115</td>\n",
       "      <td>0</td>\n",
       "      <td>27028330</td>\n",
       "    </tr>\n",
       "    <tr>\n",
       "      <th>3</th>\n",
       "      <td>Algeria</td>\n",
       "      <td>DZA</td>\n",
       "      <td>1993</td>\n",
       "      <td>13154</td>\n",
       "      <td>0</td>\n",
       "      <td>27635517</td>\n",
       "    </tr>\n",
       "    <tr>\n",
       "      <th>4</th>\n",
       "      <td>Algeria</td>\n",
       "      <td>DZA</td>\n",
       "      <td>1994</td>\n",
       "      <td>13326</td>\n",
       "      <td>0</td>\n",
       "      <td>28213777</td>\n",
       "    </tr>\n",
       "    <tr>\n",
       "      <th>...</th>\n",
       "      <td>...</td>\n",
       "      <td>...</td>\n",
       "      <td>...</td>\n",
       "      <td>...</td>\n",
       "      <td>...</td>\n",
       "      <td>...</td>\n",
       "    </tr>\n",
       "    <tr>\n",
       "      <th>1615</th>\n",
       "      <td>Zimbabwe</td>\n",
       "      <td>ZWE</td>\n",
       "      <td>2015</td>\n",
       "      <td>2373</td>\n",
       "      <td>1</td>\n",
       "      <td>13814642</td>\n",
       "    </tr>\n",
       "    <tr>\n",
       "      <th>1616</th>\n",
       "      <td>Zimbabwe</td>\n",
       "      <td>ZWE</td>\n",
       "      <td>2016</td>\n",
       "      <td>2436</td>\n",
       "      <td>1</td>\n",
       "      <td>14030338</td>\n",
       "    </tr>\n",
       "    <tr>\n",
       "      <th>1617</th>\n",
       "      <td>Zimbabwe</td>\n",
       "      <td>ZWE</td>\n",
       "      <td>2017</td>\n",
       "      <td>2473</td>\n",
       "      <td>1</td>\n",
       "      <td>14236599</td>\n",
       "    </tr>\n",
       "    <tr>\n",
       "      <th>1618</th>\n",
       "      <td>Zimbabwe</td>\n",
       "      <td>ZWE</td>\n",
       "      <td>2018</td>\n",
       "      <td>2509</td>\n",
       "      <td>1</td>\n",
       "      <td>14438812</td>\n",
       "    </tr>\n",
       "    <tr>\n",
       "      <th>1619</th>\n",
       "      <td>Zimbabwe</td>\n",
       "      <td>ZWE</td>\n",
       "      <td>2019</td>\n",
       "      <td>2554</td>\n",
       "      <td>1</td>\n",
       "      <td>14645473</td>\n",
       "    </tr>\n",
       "  </tbody>\n",
       "</table>\n",
       "<p>1620 rows × 6 columns</p>\n",
       "</div>"
      ],
      "text/plain": [
       "        Entity Code  Year  Deaths  Sidedness  Historical_Population\n",
       "0      Algeria  DZA  1990   13438          0               25758872\n",
       "1      Algeria  DZA  1991   13120          0               26400468\n",
       "2      Algeria  DZA  1992   13115          0               27028330\n",
       "3      Algeria  DZA  1993   13154          0               27635517\n",
       "4      Algeria  DZA  1994   13326          0               28213777\n",
       "...        ...  ...   ...     ...        ...                    ...\n",
       "1615  Zimbabwe  ZWE  2015    2373          1               13814642\n",
       "1616  Zimbabwe  ZWE  2016    2436          1               14030338\n",
       "1617  Zimbabwe  ZWE  2017    2473          1               14236599\n",
       "1618  Zimbabwe  ZWE  2018    2509          1               14438812\n",
       "1619  Zimbabwe  ZWE  2019    2554          1               14645473\n",
       "\n",
       "[1620 rows x 6 columns]"
      ]
     },
     "execution_count": 16,
     "metadata": {},
     "output_type": "execute_result"
    }
   ],
   "source": [
    "df"
   ]
  },
  {
   "cell_type": "code",
   "execution_count": 17,
   "id": "ebdb9748",
   "metadata": {},
   "outputs": [
    {
     "data": {
      "text/plain": [
       "Entity                   0\n",
       "Code                     0\n",
       "Year                     0\n",
       "Deaths                   0\n",
       "Sidedness                0\n",
       "Historical_Population    0\n",
       "dtype: int64"
      ]
     },
     "execution_count": 17,
     "metadata": {},
     "output_type": "execute_result"
    }
   ],
   "source": [
    "#Looking for NaN cells in the data\n",
    "df.isna().sum()"
   ]
  },
  {
   "cell_type": "code",
   "execution_count": 139,
   "id": "a851c3a3",
   "metadata": {},
   "outputs": [],
   "source": [
    "#Renaming columns\n",
    "\n",
    "df.rename(columns={'Entity':'country','Sidedness':'side','Year':'year','Deaths':'deaths','Historical_Population':'hist_pop'\n",
    "},inplace=True)"
   ]
  },
  {
   "cell_type": "code",
   "execution_count": 140,
   "id": "676f4052",
   "metadata": {},
   "outputs": [],
   "source": [
    "#Changing the numerical values of the rows to categorical\n",
    "df['side'].mask(df['side']==0,'Right',inplace=True)"
   ]
  },
  {
   "cell_type": "code",
   "execution_count": 141,
   "id": "ffe3a23f",
   "metadata": {},
   "outputs": [],
   "source": [
    "#Changing the numerical values of the rows to categorical\n",
    "df['side'].mask(df['side']==1,'Left',inplace=True)"
   ]
  },
  {
   "cell_type": "code",
   "execution_count": 142,
   "id": "87b0bd30",
   "metadata": {},
   "outputs": [],
   "source": [
    "#Dropping unnecessary columns\n",
    "df.drop(columns=['Code'],inplace=True)\n"
   ]
  },
  {
   "cell_type": "code",
   "execution_count": 143,
   "id": "699c8d00",
   "metadata": {},
   "outputs": [
    {
     "data": {
      "text/html": [
       "<div>\n",
       "<style scoped>\n",
       "    .dataframe tbody tr th:only-of-type {\n",
       "        vertical-align: middle;\n",
       "    }\n",
       "\n",
       "    .dataframe tbody tr th {\n",
       "        vertical-align: top;\n",
       "    }\n",
       "\n",
       "    .dataframe thead th {\n",
       "        text-align: right;\n",
       "    }\n",
       "</style>\n",
       "<table border=\"1\" class=\"dataframe\">\n",
       "  <thead>\n",
       "    <tr style=\"text-align: right;\">\n",
       "      <th></th>\n",
       "      <th>country</th>\n",
       "      <th>year</th>\n",
       "      <th>deaths</th>\n",
       "      <th>side</th>\n",
       "      <th>hist_pop</th>\n",
       "    </tr>\n",
       "  </thead>\n",
       "  <tbody>\n",
       "    <tr>\n",
       "      <th>0</th>\n",
       "      <td>Algeria</td>\n",
       "      <td>1990</td>\n",
       "      <td>13438</td>\n",
       "      <td>Right</td>\n",
       "      <td>25758872</td>\n",
       "    </tr>\n",
       "    <tr>\n",
       "      <th>1</th>\n",
       "      <td>Algeria</td>\n",
       "      <td>1991</td>\n",
       "      <td>13120</td>\n",
       "      <td>Right</td>\n",
       "      <td>26400468</td>\n",
       "    </tr>\n",
       "    <tr>\n",
       "      <th>2</th>\n",
       "      <td>Algeria</td>\n",
       "      <td>1992</td>\n",
       "      <td>13115</td>\n",
       "      <td>Right</td>\n",
       "      <td>27028330</td>\n",
       "    </tr>\n",
       "    <tr>\n",
       "      <th>3</th>\n",
       "      <td>Algeria</td>\n",
       "      <td>1993</td>\n",
       "      <td>13154</td>\n",
       "      <td>Right</td>\n",
       "      <td>27635517</td>\n",
       "    </tr>\n",
       "    <tr>\n",
       "      <th>4</th>\n",
       "      <td>Algeria</td>\n",
       "      <td>1994</td>\n",
       "      <td>13326</td>\n",
       "      <td>Right</td>\n",
       "      <td>28213777</td>\n",
       "    </tr>\n",
       "    <tr>\n",
       "      <th>...</th>\n",
       "      <td>...</td>\n",
       "      <td>...</td>\n",
       "      <td>...</td>\n",
       "      <td>...</td>\n",
       "      <td>...</td>\n",
       "    </tr>\n",
       "    <tr>\n",
       "      <th>1615</th>\n",
       "      <td>Zimbabwe</td>\n",
       "      <td>2015</td>\n",
       "      <td>2373</td>\n",
       "      <td>Left</td>\n",
       "      <td>13814642</td>\n",
       "    </tr>\n",
       "    <tr>\n",
       "      <th>1616</th>\n",
       "      <td>Zimbabwe</td>\n",
       "      <td>2016</td>\n",
       "      <td>2436</td>\n",
       "      <td>Left</td>\n",
       "      <td>14030338</td>\n",
       "    </tr>\n",
       "    <tr>\n",
       "      <th>1617</th>\n",
       "      <td>Zimbabwe</td>\n",
       "      <td>2017</td>\n",
       "      <td>2473</td>\n",
       "      <td>Left</td>\n",
       "      <td>14236599</td>\n",
       "    </tr>\n",
       "    <tr>\n",
       "      <th>1618</th>\n",
       "      <td>Zimbabwe</td>\n",
       "      <td>2018</td>\n",
       "      <td>2509</td>\n",
       "      <td>Left</td>\n",
       "      <td>14438812</td>\n",
       "    </tr>\n",
       "    <tr>\n",
       "      <th>1619</th>\n",
       "      <td>Zimbabwe</td>\n",
       "      <td>2019</td>\n",
       "      <td>2554</td>\n",
       "      <td>Left</td>\n",
       "      <td>14645473</td>\n",
       "    </tr>\n",
       "  </tbody>\n",
       "</table>\n",
       "<p>1620 rows × 5 columns</p>\n",
       "</div>"
      ],
      "text/plain": [
       "       country  year  deaths   side  hist_pop\n",
       "0      Algeria  1990   13438  Right  25758872\n",
       "1      Algeria  1991   13120  Right  26400468\n",
       "2      Algeria  1992   13115  Right  27028330\n",
       "3      Algeria  1993   13154  Right  27635517\n",
       "4      Algeria  1994   13326  Right  28213777\n",
       "...        ...   ...     ...    ...       ...\n",
       "1615  Zimbabwe  2015    2373   Left  13814642\n",
       "1616  Zimbabwe  2016    2436   Left  14030338\n",
       "1617  Zimbabwe  2017    2473   Left  14236599\n",
       "1618  Zimbabwe  2018    2509   Left  14438812\n",
       "1619  Zimbabwe  2019    2554   Left  14645473\n",
       "\n",
       "[1620 rows x 5 columns]"
      ]
     },
     "execution_count": 143,
     "metadata": {},
     "output_type": "execute_result"
    }
   ],
   "source": [
    "#Confirming the above changes\n",
    "df"
   ]
  },
  {
   "cell_type": "code",
   "execution_count": 23,
   "id": "c1fe2956",
   "metadata": {},
   "outputs": [
    {
     "name": "stdout",
     "output_type": "stream",
     "text": [
      "['Algeria' 'Angola' 'Benin' 'Botswana' 'Burkina Faso' 'Burundi' 'Cameroon'\n",
      " 'Cape Verde' 'Central African Republic' 'Chad' 'Comoros' 'Congo'\n",
      " \"Cote d'Ivoire\" 'Democratic Republic of Congo' 'Djibouti' 'Egypt'\n",
      " 'Equatorial Guinea' 'Eritrea' 'Ethiopia' 'Gabon' 'Gambia' 'Ghana'\n",
      " 'Guinea' 'Guinea-Bissau' 'Kenya' 'Lesotho' 'Liberia' 'Libya' 'Madagascar'\n",
      " 'Malawi' 'Mali' 'Mauritania' 'Mauritius' 'Morocco' 'Mozambique' 'Namibia'\n",
      " 'Niger' 'Nigeria' 'Rwanda' 'Sao Tome and Principe' 'Saudi Arabia'\n",
      " 'Senegal' 'Seychelles' 'Sierra Leone' 'Somalia' 'South Africa'\n",
      " 'South Sudan' 'Sudan' 'Tanzania' 'Togo' 'Tunisia' 'Uganda' 'Zambia'\n",
      " 'Zimbabwe']\n",
      "The Number of countries =  54\n"
     ]
    }
   ],
   "source": [
    "#List of countries in Africa\n",
    "df.country.unique()\n",
    "print(df.country.unique())\n",
    "print('The Number of countries = ',len(df.country.unique()))"
   ]
  },
  {
   "cell_type": "code",
   "execution_count": 144,
   "id": "a6c7137b",
   "metadata": {},
   "outputs": [
    {
     "data": {
      "text/plain": [
       "(1590, 5)"
      ]
     },
     "execution_count": 144,
     "metadata": {},
     "output_type": "execute_result"
    }
   ],
   "source": [
    "#Removing country Saudi Arabia since it is not in Africa\n",
    "SAU=df.groupby('country')['deaths'].get_group('Saudi Arabia') #drawing the dataframe\n",
    "remove=list(SAU.index) #indexing the drawn dataframe\n",
    "df.drop(index=remove,inplace=True) #dropping the range of rows\n",
    "df.shape #confirming if the rows have been dropped"
   ]
  },
  {
   "cell_type": "markdown",
   "id": "f3c0fb6b",
   "metadata": {},
   "source": [
    "# DESCRIPTIVE ANALYSIS"
   ]
  },
  {
   "cell_type": "code",
   "execution_count": 25,
   "id": "b16fdbf2",
   "metadata": {},
   "outputs": [
    {
     "data": {
      "text/html": [
       "<div>\n",
       "<style scoped>\n",
       "    .dataframe tbody tr th:only-of-type {\n",
       "        vertical-align: middle;\n",
       "    }\n",
       "\n",
       "    .dataframe tbody tr th {\n",
       "        vertical-align: top;\n",
       "    }\n",
       "\n",
       "    .dataframe thead th {\n",
       "        text-align: right;\n",
       "    }\n",
       "</style>\n",
       "<table border=\"1\" class=\"dataframe\">\n",
       "  <thead>\n",
       "    <tr style=\"text-align: right;\">\n",
       "      <th></th>\n",
       "      <th>country</th>\n",
       "      <th>year</th>\n",
       "      <th>deaths</th>\n",
       "      <th>side</th>\n",
       "      <th>hist_pop</th>\n",
       "    </tr>\n",
       "  </thead>\n",
       "  <tbody>\n",
       "    <tr>\n",
       "      <th>1139</th>\n",
       "      <td>Nigeria</td>\n",
       "      <td>2019</td>\n",
       "      <td>18508</td>\n",
       "      <td>Right</td>\n",
       "      <td>200963603</td>\n",
       "    </tr>\n",
       "    <tr>\n",
       "      <th>1138</th>\n",
       "      <td>Nigeria</td>\n",
       "      <td>2018</td>\n",
       "      <td>18531</td>\n",
       "      <td>Right</td>\n",
       "      <td>195874685</td>\n",
       "    </tr>\n",
       "    <tr>\n",
       "      <th>1137</th>\n",
       "      <td>Nigeria</td>\n",
       "      <td>2017</td>\n",
       "      <td>19319</td>\n",
       "      <td>Right</td>\n",
       "      <td>190873247</td>\n",
       "    </tr>\n",
       "    <tr>\n",
       "      <th>1136</th>\n",
       "      <td>Nigeria</td>\n",
       "      <td>2016</td>\n",
       "      <td>19370</td>\n",
       "      <td>Right</td>\n",
       "      <td>185960244</td>\n",
       "    </tr>\n",
       "    <tr>\n",
       "      <th>1135</th>\n",
       "      <td>Nigeria</td>\n",
       "      <td>2015</td>\n",
       "      <td>19053</td>\n",
       "      <td>Right</td>\n",
       "      <td>181137454</td>\n",
       "    </tr>\n",
       "    <tr>\n",
       "      <th>...</th>\n",
       "      <td>...</td>\n",
       "      <td>...</td>\n",
       "      <td>...</td>\n",
       "      <td>...</td>\n",
       "      <td>...</td>\n",
       "    </tr>\n",
       "    <tr>\n",
       "      <th>1264</th>\n",
       "      <td>Seychelles</td>\n",
       "      <td>1994</td>\n",
       "      <td>11</td>\n",
       "      <td>Left</td>\n",
       "      <td>75444</td>\n",
       "    </tr>\n",
       "    <tr>\n",
       "      <th>1263</th>\n",
       "      <td>Seychelles</td>\n",
       "      <td>1993</td>\n",
       "      <td>10</td>\n",
       "      <td>Left</td>\n",
       "      <td>74071</td>\n",
       "    </tr>\n",
       "    <tr>\n",
       "      <th>1262</th>\n",
       "      <td>Seychelles</td>\n",
       "      <td>1992</td>\n",
       "      <td>9</td>\n",
       "      <td>Left</td>\n",
       "      <td>72661</td>\n",
       "    </tr>\n",
       "    <tr>\n",
       "      <th>1261</th>\n",
       "      <td>Seychelles</td>\n",
       "      <td>1991</td>\n",
       "      <td>9</td>\n",
       "      <td>Left</td>\n",
       "      <td>71446</td>\n",
       "    </tr>\n",
       "    <tr>\n",
       "      <th>1260</th>\n",
       "      <td>Seychelles</td>\n",
       "      <td>1990</td>\n",
       "      <td>8</td>\n",
       "      <td>Left</td>\n",
       "      <td>70572</td>\n",
       "    </tr>\n",
       "  </tbody>\n",
       "</table>\n",
       "<p>1590 rows × 5 columns</p>\n",
       "</div>"
      ],
      "text/plain": [
       "         country  year  deaths   side   hist_pop\n",
       "1139     Nigeria  2019   18508  Right  200963603\n",
       "1138     Nigeria  2018   18531  Right  195874685\n",
       "1137     Nigeria  2017   19319  Right  190873247\n",
       "1136     Nigeria  2016   19370  Right  185960244\n",
       "1135     Nigeria  2015   19053  Right  181137454\n",
       "...          ...   ...     ...    ...        ...\n",
       "1264  Seychelles  1994      11   Left      75444\n",
       "1263  Seychelles  1993      10   Left      74071\n",
       "1262  Seychelles  1992       9   Left      72661\n",
       "1261  Seychelles  1991       9   Left      71446\n",
       "1260  Seychelles  1990       8   Left      70572\n",
       "\n",
       "[1590 rows x 5 columns]"
      ]
     },
     "execution_count": 25,
     "metadata": {},
     "output_type": "execute_result"
    }
   ],
   "source": [
    "#SORTING with countries population(descending order)\n",
    "df.sort_values(by='hist_pop',ascending=False) #Nigeria has the largest population, Seychelles smalllest"
   ]
  },
  {
   "cell_type": "code",
   "execution_count": 26,
   "id": "8d8f74c7",
   "metadata": {},
   "outputs": [
    {
     "data": {
      "text/html": [
       "<div>\n",
       "<style scoped>\n",
       "    .dataframe tbody tr th:only-of-type {\n",
       "        vertical-align: middle;\n",
       "    }\n",
       "\n",
       "    .dataframe tbody tr th {\n",
       "        vertical-align: top;\n",
       "    }\n",
       "\n",
       "    .dataframe thead th {\n",
       "        text-align: right;\n",
       "    }\n",
       "</style>\n",
       "<table border=\"1\" class=\"dataframe\">\n",
       "  <thead>\n",
       "    <tr style=\"text-align: right;\">\n",
       "      <th></th>\n",
       "      <th>country</th>\n",
       "      <th>year</th>\n",
       "      <th>deaths</th>\n",
       "      <th>side</th>\n",
       "      <th>hist_pop</th>\n",
       "    </tr>\n",
       "  </thead>\n",
       "  <tbody>\n",
       "    <tr>\n",
       "      <th>415</th>\n",
       "      <td>Democratic Republic of Congo</td>\n",
       "      <td>2015</td>\n",
       "      <td>30061</td>\n",
       "      <td>Right</td>\n",
       "      <td>76244532</td>\n",
       "    </tr>\n",
       "    <tr>\n",
       "      <th>418</th>\n",
       "      <td>Democratic Republic of Congo</td>\n",
       "      <td>2018</td>\n",
       "      <td>29778</td>\n",
       "      <td>Right</td>\n",
       "      <td>84068092</td>\n",
       "    </tr>\n",
       "    <tr>\n",
       "      <th>416</th>\n",
       "      <td>Democratic Republic of Congo</td>\n",
       "      <td>2016</td>\n",
       "      <td>29640</td>\n",
       "      <td>Right</td>\n",
       "      <td>78789130</td>\n",
       "    </tr>\n",
       "    <tr>\n",
       "      <th>419</th>\n",
       "      <td>Democratic Republic of Congo</td>\n",
       "      <td>2019</td>\n",
       "      <td>29543</td>\n",
       "      <td>Right</td>\n",
       "      <td>86790568</td>\n",
       "    </tr>\n",
       "    <tr>\n",
       "      <th>479</th>\n",
       "      <td>Egypt</td>\n",
       "      <td>2019</td>\n",
       "      <td>29490</td>\n",
       "      <td>Right</td>\n",
       "      <td>100388076</td>\n",
       "    </tr>\n",
       "    <tr>\n",
       "      <th>...</th>\n",
       "      <td>...</td>\n",
       "      <td>...</td>\n",
       "      <td>...</td>\n",
       "      <td>...</td>\n",
       "      <td>...</td>\n",
       "    </tr>\n",
       "    <tr>\n",
       "      <th>1264</th>\n",
       "      <td>Seychelles</td>\n",
       "      <td>1994</td>\n",
       "      <td>11</td>\n",
       "      <td>Left</td>\n",
       "      <td>75444</td>\n",
       "    </tr>\n",
       "    <tr>\n",
       "      <th>1263</th>\n",
       "      <td>Seychelles</td>\n",
       "      <td>1993</td>\n",
       "      <td>10</td>\n",
       "      <td>Left</td>\n",
       "      <td>74071</td>\n",
       "    </tr>\n",
       "    <tr>\n",
       "      <th>1262</th>\n",
       "      <td>Seychelles</td>\n",
       "      <td>1992</td>\n",
       "      <td>9</td>\n",
       "      <td>Left</td>\n",
       "      <td>72661</td>\n",
       "    </tr>\n",
       "    <tr>\n",
       "      <th>1261</th>\n",
       "      <td>Seychelles</td>\n",
       "      <td>1991</td>\n",
       "      <td>9</td>\n",
       "      <td>Left</td>\n",
       "      <td>71446</td>\n",
       "    </tr>\n",
       "    <tr>\n",
       "      <th>1260</th>\n",
       "      <td>Seychelles</td>\n",
       "      <td>1990</td>\n",
       "      <td>8</td>\n",
       "      <td>Left</td>\n",
       "      <td>70572</td>\n",
       "    </tr>\n",
       "  </tbody>\n",
       "</table>\n",
       "<p>1590 rows × 5 columns</p>\n",
       "</div>"
      ],
      "text/plain": [
       "                           country  year  deaths   side   hist_pop\n",
       "415   Democratic Republic of Congo  2015   30061  Right   76244532\n",
       "418   Democratic Republic of Congo  2018   29778  Right   84068092\n",
       "416   Democratic Republic of Congo  2016   29640  Right   78789130\n",
       "419   Democratic Republic of Congo  2019   29543  Right   86790568\n",
       "479                          Egypt  2019   29490  Right  100388076\n",
       "...                            ...   ...     ...    ...        ...\n",
       "1264                    Seychelles  1994      11   Left      75444\n",
       "1263                    Seychelles  1993      10   Left      74071\n",
       "1262                    Seychelles  1992       9   Left      72661\n",
       "1261                    Seychelles  1991       9   Left      71446\n",
       "1260                    Seychelles  1990       8   Left      70572\n",
       "\n",
       "[1590 rows x 5 columns]"
      ]
     },
     "execution_count": 26,
     "metadata": {},
     "output_type": "execute_result"
    }
   ],
   "source": [
    "#SORTING with number of deaths per year\n",
    "df.sort_values(by='deaths',ascending=False) #DRC recorded highest number of deaths by accidents, Seychelles lowest\n",
    "\n",
    "#why did DRC record the highest number of deaths?"
   ]
  },
  {
   "cell_type": "code",
   "execution_count": 145,
   "id": "a43e4299",
   "metadata": {},
   "outputs": [
    {
     "data": {
      "text/html": [
       "<div>\n",
       "<style scoped>\n",
       "    .dataframe tbody tr th:only-of-type {\n",
       "        vertical-align: middle;\n",
       "    }\n",
       "\n",
       "    .dataframe tbody tr th {\n",
       "        vertical-align: top;\n",
       "    }\n",
       "\n",
       "    .dataframe thead th {\n",
       "        text-align: right;\n",
       "    }\n",
       "</style>\n",
       "<table border=\"1\" class=\"dataframe\">\n",
       "  <thead>\n",
       "    <tr style=\"text-align: right;\">\n",
       "      <th></th>\n",
       "      <th>country</th>\n",
       "      <th>year</th>\n",
       "      <th>deaths</th>\n",
       "      <th>side</th>\n",
       "      <th>hist_pop</th>\n",
       "      <th>%_deaths</th>\n",
       "    </tr>\n",
       "  </thead>\n",
       "  <tbody>\n",
       "    <tr>\n",
       "      <th>0</th>\n",
       "      <td>Algeria</td>\n",
       "      <td>1990</td>\n",
       "      <td>13438</td>\n",
       "      <td>Right</td>\n",
       "      <td>25758872</td>\n",
       "      <td>0.052168</td>\n",
       "    </tr>\n",
       "    <tr>\n",
       "      <th>1</th>\n",
       "      <td>Algeria</td>\n",
       "      <td>1991</td>\n",
       "      <td>13120</td>\n",
       "      <td>Right</td>\n",
       "      <td>26400468</td>\n",
       "      <td>0.049696</td>\n",
       "    </tr>\n",
       "    <tr>\n",
       "      <th>2</th>\n",
       "      <td>Algeria</td>\n",
       "      <td>1992</td>\n",
       "      <td>13115</td>\n",
       "      <td>Right</td>\n",
       "      <td>27028330</td>\n",
       "      <td>0.048523</td>\n",
       "    </tr>\n",
       "    <tr>\n",
       "      <th>3</th>\n",
       "      <td>Algeria</td>\n",
       "      <td>1993</td>\n",
       "      <td>13154</td>\n",
       "      <td>Right</td>\n",
       "      <td>27635517</td>\n",
       "      <td>0.047598</td>\n",
       "    </tr>\n",
       "    <tr>\n",
       "      <th>4</th>\n",
       "      <td>Algeria</td>\n",
       "      <td>1994</td>\n",
       "      <td>13326</td>\n",
       "      <td>Right</td>\n",
       "      <td>28213777</td>\n",
       "      <td>0.047232</td>\n",
       "    </tr>\n",
       "    <tr>\n",
       "      <th>...</th>\n",
       "      <td>...</td>\n",
       "      <td>...</td>\n",
       "      <td>...</td>\n",
       "      <td>...</td>\n",
       "      <td>...</td>\n",
       "      <td>...</td>\n",
       "    </tr>\n",
       "    <tr>\n",
       "      <th>1615</th>\n",
       "      <td>Zimbabwe</td>\n",
       "      <td>2015</td>\n",
       "      <td>2373</td>\n",
       "      <td>Left</td>\n",
       "      <td>13814642</td>\n",
       "      <td>0.017177</td>\n",
       "    </tr>\n",
       "    <tr>\n",
       "      <th>1616</th>\n",
       "      <td>Zimbabwe</td>\n",
       "      <td>2016</td>\n",
       "      <td>2436</td>\n",
       "      <td>Left</td>\n",
       "      <td>14030338</td>\n",
       "      <td>0.017362</td>\n",
       "    </tr>\n",
       "    <tr>\n",
       "      <th>1617</th>\n",
       "      <td>Zimbabwe</td>\n",
       "      <td>2017</td>\n",
       "      <td>2473</td>\n",
       "      <td>Left</td>\n",
       "      <td>14236599</td>\n",
       "      <td>0.017371</td>\n",
       "    </tr>\n",
       "    <tr>\n",
       "      <th>1618</th>\n",
       "      <td>Zimbabwe</td>\n",
       "      <td>2018</td>\n",
       "      <td>2509</td>\n",
       "      <td>Left</td>\n",
       "      <td>14438812</td>\n",
       "      <td>0.017377</td>\n",
       "    </tr>\n",
       "    <tr>\n",
       "      <th>1619</th>\n",
       "      <td>Zimbabwe</td>\n",
       "      <td>2019</td>\n",
       "      <td>2554</td>\n",
       "      <td>Left</td>\n",
       "      <td>14645473</td>\n",
       "      <td>0.017439</td>\n",
       "    </tr>\n",
       "  </tbody>\n",
       "</table>\n",
       "<p>1590 rows × 6 columns</p>\n",
       "</div>"
      ],
      "text/plain": [
       "       country  year  deaths   side  hist_pop  %_deaths\n",
       "0      Algeria  1990   13438  Right  25758872  0.052168\n",
       "1      Algeria  1991   13120  Right  26400468  0.049696\n",
       "2      Algeria  1992   13115  Right  27028330  0.048523\n",
       "3      Algeria  1993   13154  Right  27635517  0.047598\n",
       "4      Algeria  1994   13326  Right  28213777  0.047232\n",
       "...        ...   ...     ...    ...       ...       ...\n",
       "1615  Zimbabwe  2015    2373   Left  13814642  0.017177\n",
       "1616  Zimbabwe  2016    2436   Left  14030338  0.017362\n",
       "1617  Zimbabwe  2017    2473   Left  14236599  0.017371\n",
       "1618  Zimbabwe  2018    2509   Left  14438812  0.017377\n",
       "1619  Zimbabwe  2019    2554   Left  14645473  0.017439\n",
       "\n",
       "[1590 rows x 6 columns]"
      ]
     },
     "execution_count": 145,
     "metadata": {},
     "output_type": "execute_result"
    }
   ],
   "source": [
    "#% of deaths in all countries\n",
    "df['%_deaths']= (df['deaths']/df['hist_pop'])*100\n",
    "df"
   ]
  },
  {
   "cell_type": "code",
   "execution_count": 52,
   "id": "dc9e960d",
   "metadata": {},
   "outputs": [],
   "source": [
    "#Dropping the populations since we dont need them\n",
    "df.drop(columns=['hist_pop'],inplace=True)"
   ]
  },
  {
   "cell_type": "code",
   "execution_count": 148,
   "id": "64a8b424",
   "metadata": {},
   "outputs": [
    {
     "data": {
      "text/plain": [
       "year\n",
       "1990    0.025651\n",
       "1992    0.025454\n",
       "1991    0.025436\n",
       "1995    0.025387\n",
       "1994    0.025345\n",
       "1993    0.025323\n",
       "1996    0.025299\n",
       "1997    0.025246\n",
       "1998    0.025156\n",
       "1999    0.025063\n",
       "2000    0.024874\n",
       "2001    0.024522\n",
       "2002    0.024387\n",
       "2003    0.024191\n",
       "2004    0.024060\n",
       "2005    0.023753\n",
       "2006    0.023465\n",
       "2007    0.023276\n",
       "2008    0.022905\n",
       "2009    0.022555\n",
       "2010    0.022218\n",
       "2011    0.021881\n",
       "2012    0.021523\n",
       "2013    0.021209\n",
       "2014    0.021044\n",
       "2015    0.020774\n",
       "2016    0.020489\n",
       "2017    0.020252\n",
       "2018    0.019985\n",
       "2019    0.019699\n",
       "Name: %_deaths, dtype: float64"
      ]
     },
     "execution_count": 148,
     "metadata": {},
     "output_type": "execute_result"
    }
   ],
   "source": [
    "#SORTING total percentage of deaths per year\n",
    "df.groupby('year')['%_deaths'].mean().sort_values(ascending=False) #1990 had the highest rate of deaths\n",
    "\n",
    "#Why is the rate of death decreasing thro the years?"
   ]
  },
  {
   "cell_type": "code",
   "execution_count": 54,
   "id": "30cfdbbe",
   "metadata": {},
   "outputs": [
    {
     "name": "stdout",
     "output_type": "stream",
     "text": [
      "Enter Country name: Kenya\n"
     ]
    },
    {
     "data": {
      "text/plain": [
       "year\n",
       "2007    0.010006\n",
       "2011    0.009993\n",
       "2008    0.009989\n",
       "2010    0.009950\n",
       "2006    0.009937\n",
       "2009    0.009924\n",
       "2005    0.009900\n",
       "2012    0.009812\n",
       "2004    0.009752\n",
       "2013    0.009580\n",
       "2003    0.009522\n",
       "2014    0.009377\n",
       "2002    0.009075\n",
       "2015    0.009021\n",
       "2016    0.008854\n",
       "2017    0.008787\n",
       "2018    0.008758\n",
       "2019    0.008740\n",
       "2001    0.008710\n",
       "2000    0.008544\n",
       "1990    0.008295\n",
       "1999    0.008264\n",
       "1991    0.008246\n",
       "1992    0.008217\n",
       "1998    0.008215\n",
       "1993    0.008142\n",
       "1997    0.008084\n",
       "1994    0.008081\n",
       "1995    0.008034\n",
       "1996    0.008017\n",
       "Name: %_deaths, dtype: float64"
      ]
     },
     "execution_count": 54,
     "metadata": {},
     "output_type": "execute_result"
    }
   ],
   "source": [
    "#SORTING the percentage of deaths per year of a particular country\n",
    "Country=input('Enter Country name: ')\n",
    "mycountry=df.groupby('country')[['year','%_deaths']].get_group(Country)\n",
    "mycountry.groupby('year')['%_deaths'].max().sort_values(ascending=False) #for example Kenya had the highest rate in 2007\n",
    "\n",
    "#Why did Kenya record the highest death rate in 2007?"
   ]
  },
  {
   "cell_type": "code",
   "execution_count": 30,
   "id": "4416d8e9",
   "metadata": {},
   "outputs": [],
   "source": [
    "#Saving a new excel workbook with the added column\n",
    "df.to_excel('New_Accidents.xlsx')"
   ]
  },
  {
   "cell_type": "code",
   "execution_count": 55,
   "id": "667680ef",
   "metadata": {},
   "outputs": [
    {
     "data": {
      "text/html": [
       "<div>\n",
       "<style scoped>\n",
       "    .dataframe tbody tr th:only-of-type {\n",
       "        vertical-align: middle;\n",
       "    }\n",
       "\n",
       "    .dataframe tbody tr th {\n",
       "        vertical-align: top;\n",
       "    }\n",
       "\n",
       "    .dataframe thead th {\n",
       "        text-align: right;\n",
       "    }\n",
       "</style>\n",
       "<table border=\"1\" class=\"dataframe\">\n",
       "  <thead>\n",
       "    <tr style=\"text-align: right;\">\n",
       "      <th></th>\n",
       "      <th>country</th>\n",
       "      <th>year</th>\n",
       "      <th>deaths</th>\n",
       "      <th>side</th>\n",
       "      <th>%_deaths</th>\n",
       "    </tr>\n",
       "  </thead>\n",
       "  <tbody>\n",
       "    <tr>\n",
       "      <th>261</th>\n",
       "      <td>Central African Republic</td>\n",
       "      <td>2011</td>\n",
       "      <td>3029</td>\n",
       "      <td>Right</td>\n",
       "      <td>0.068551</td>\n",
       "    </tr>\n",
       "    <tr>\n",
       "      <th>260</th>\n",
       "      <td>Central African Republic</td>\n",
       "      <td>2010</td>\n",
       "      <td>2973</td>\n",
       "      <td>Right</td>\n",
       "      <td>0.067772</td>\n",
       "    </tr>\n",
       "    <tr>\n",
       "      <th>263</th>\n",
       "      <td>Central African Republic</td>\n",
       "      <td>2013</td>\n",
       "      <td>3001</td>\n",
       "      <td>Right</td>\n",
       "      <td>0.067469</td>\n",
       "    </tr>\n",
       "    <tr>\n",
       "      <th>262</th>\n",
       "      <td>Central African Republic</td>\n",
       "      <td>2012</td>\n",
       "      <td>2985</td>\n",
       "      <td>Right</td>\n",
       "      <td>0.067284</td>\n",
       "    </tr>\n",
       "    <tr>\n",
       "      <th>264</th>\n",
       "      <td>Central African Republic</td>\n",
       "      <td>2014</td>\n",
       "      <td>2957</td>\n",
       "      <td>Right</td>\n",
       "      <td>0.066239</td>\n",
       "    </tr>\n",
       "    <tr>\n",
       "      <th>...</th>\n",
       "      <td>...</td>\n",
       "      <td>...</td>\n",
       "      <td>...</td>\n",
       "      <td>...</td>\n",
       "      <td>...</td>\n",
       "    </tr>\n",
       "    <tr>\n",
       "      <th>1402</th>\n",
       "      <td>South Sudan</td>\n",
       "      <td>2012</td>\n",
       "      <td>1034</td>\n",
       "      <td>Right</td>\n",
       "      <td>0.010224</td>\n",
       "    </tr>\n",
       "    <tr>\n",
       "      <th>1194</th>\n",
       "      <td>Sao Tome and Principe</td>\n",
       "      <td>2014</td>\n",
       "      <td>20</td>\n",
       "      <td>Right</td>\n",
       "      <td>0.010218</td>\n",
       "    </tr>\n",
       "    <tr>\n",
       "      <th>809</th>\n",
       "      <td>Liberia</td>\n",
       "      <td>2019</td>\n",
       "      <td>503</td>\n",
       "      <td>Right</td>\n",
       "      <td>0.010188</td>\n",
       "    </tr>\n",
       "    <tr>\n",
       "      <th>1185</th>\n",
       "      <td>Sao Tome and Principe</td>\n",
       "      <td>2005</td>\n",
       "      <td>16</td>\n",
       "      <td>Right</td>\n",
       "      <td>0.010161</td>\n",
       "    </tr>\n",
       "    <tr>\n",
       "      <th>1137</th>\n",
       "      <td>Nigeria</td>\n",
       "      <td>2017</td>\n",
       "      <td>19319</td>\n",
       "      <td>Right</td>\n",
       "      <td>0.010121</td>\n",
       "    </tr>\n",
       "  </tbody>\n",
       "</table>\n",
       "<p>1500 rows × 5 columns</p>\n",
       "</div>"
      ],
      "text/plain": [
       "                       country  year  deaths   side  %_deaths\n",
       "261   Central African Republic  2011    3029  Right  0.068551\n",
       "260   Central African Republic  2010    2973  Right  0.067772\n",
       "263   Central African Republic  2013    3001  Right  0.067469\n",
       "262   Central African Republic  2012    2985  Right  0.067284\n",
       "264   Central African Republic  2014    2957  Right  0.066239\n",
       "...                        ...   ...     ...    ...       ...\n",
       "1402               South Sudan  2012    1034  Right  0.010224\n",
       "1194     Sao Tome and Principe  2014      20  Right  0.010218\n",
       "809                    Liberia  2019     503  Right  0.010188\n",
       "1185     Sao Tome and Principe  2005      16  Right  0.010161\n",
       "1137                   Nigeria  2017   19319  Right  0.010121\n",
       "\n",
       "[1500 rows x 5 columns]"
      ]
     },
     "execution_count": 55,
     "metadata": {},
     "output_type": "execute_result"
    }
   ],
   "source": [
    "#SORTING with % in deaths \n",
    "df.nlargest(1500,columns='%_deaths') #CAR had the highest percentage in deaths,Cape Verde lowest \n",
    "\n",
    "#Why did CAR record the highest rate of death? "
   ]
  },
  {
   "cell_type": "code",
   "execution_count": 31,
   "id": "5af47d92",
   "metadata": {},
   "outputs": [
    {
     "name": "stdout",
     "output_type": "stream",
     "text": [
      "Right side population =  40\n",
      "Left side population =  13\n"
     ]
    }
   ],
   "source": [
    "#Total number of countries using a particular side of the road\n",
    "print('Right side population = ',df.groupby('side')['country'].get_group('Right').count()//30)\n",
    "print('Left side population = ',df.groupby('side')['country'].get_group('Left').count()//30)\n",
    "\n",
    "#Why are most of the countries using the right side of the road?"
   ]
  },
  {
   "cell_type": "code",
   "execution_count": 32,
   "id": "ae7c12dc",
   "metadata": {},
   "outputs": [
    {
     "name": "stdout",
     "output_type": "stream",
     "text": [
      "Right side deaths =  4981608\n",
      "Left side deaths =  1367006\n"
     ]
    }
   ],
   "source": [
    "#Total deaths per side of the road\n",
    "print('Right side deaths = ',df.groupby('side')['deaths'].get_group('Right').sum())\n",
    "print('Left side deaths = ',df.groupby('side')['deaths'].get_group('Left').sum())\n",
    "\n",
    "#This is because most of the countries use the right side of the road"
   ]
  },
  {
   "cell_type": "code",
   "execution_count": 139,
   "id": "7e5e46a2",
   "metadata": {},
   "outputs": [
    {
     "name": "stdout",
     "output_type": "stream",
     "text": [
      "Enter Country name: Kenya\n",
      "Maximum deaths recorded was 4595 in Kenya\n",
      "Minimum deaths recorded was 1968 in Kenya\n",
      "Total deaths recorded was 100798 in Kenya\n"
     ]
    }
   ],
   "source": [
    "#Max, Min and Total deaths by accident recorded per country\n",
    "Country=input('Enter Country name: ')\n",
    "print('Maximum deaths recorded was',df.groupby('country')['deaths'].get_group(Country).max(),'in',Country)\n",
    "print('Minimum deaths recorded was',df.groupby('country')['deaths'].get_group(Country).min(),'in',Country)\n",
    "print('Total deaths recorded was',df.groupby('country')['deaths'].get_group(Country).sum(),'in',Country)"
   ]
  },
  {
   "cell_type": "code",
   "execution_count": 21,
   "id": "c69eeed9",
   "metadata": {},
   "outputs": [
    {
     "name": "stdout",
     "output_type": "stream",
     "text": [
      "Enter Country name: Kenya\n",
      "Enter Year: 2008\n",
      "Deaths in  2008 was 3975\n"
     ]
    }
   ],
   "source": [
    "#Deaths per Country in particular year\n",
    "Country=input('Enter Country name: ')\n",
    "Year=eval(input('Enter Year: '))\n",
    "mycountry=df.groupby('country')[['year','deaths']].get_group(Country)\n",
    "print('Deaths in ',Year,'was',mycountry.groupby('year')['deaths'].get_group(Year).sum())"
   ]
  },
  {
   "cell_type": "code",
   "execution_count": 63,
   "id": "6e00ca33",
   "metadata": {},
   "outputs": [
    {
     "name": "stdout",
     "output_type": "stream",
     "text": [
      "Enter Country name: Kenya\n",
      "4595 [2019]\n"
     ]
    }
   ],
   "source": [
    "#Highest Deaths recorded per Country and the year\n",
    "Country=input('Enter Country name: ')\n",
    "mycountry=df.groupby('country')[['year','deaths']].get_group(Country)\n",
    "mx=mycountry['deaths'].max()\n",
    "my=df.groupby('deaths')['year'].get_group(mx)\n",
    "print(mx,my.values)\n",
    "\n",
    "#Why was the number of deaths in Kenya highest in 2019?"
   ]
  },
  {
   "cell_type": "code",
   "execution_count": 64,
   "id": "e118f78c",
   "metadata": {},
   "outputs": [
    {
     "name": "stdout",
     "output_type": "stream",
     "text": [
      "Enter Country name: Kenya\n",
      "0.010006217651277967 [2007]\n"
     ]
    }
   ],
   "source": [
    "#Highest Death rate recorded per Country and the year\n",
    "Country=input('Enter Country name: ')\n",
    "mycountry=df.groupby('country')[['year','%_deaths']].get_group(Country)\n",
    "rmx=mycountry['%_deaths'].max()\n",
    "rmy=df.groupby('%_deaths')['year'].get_group(rmx)\n",
    "print(rmx,rmy.values)\n",
    "\n",
    "#Why was the number of death rate in Kenya highest in 2007?"
   ]
  },
  {
   "cell_type": "code",
   "execution_count": 65,
   "id": "5399b76d",
   "metadata": {},
   "outputs": [
    {
     "name": "stdout",
     "output_type": "stream",
     "text": [
      "Enter Country name: Kenya\n",
      "1968 [1990]\n"
     ]
    }
   ],
   "source": [
    "#Lowest Deaths recorded per Country and the year\n",
    "Country=input('Enter Country name: ')\n",
    "mycountry=df.groupby('country')[['year','deaths']].get_group(Country)\n",
    "mx=mycountry['deaths'].min()\n",
    "my=df.groupby('deaths')['year'].get_group(mx)\n",
    "print(mx,my.values)\n",
    "\n",
    "#Why was the number of deaths in Kenya lowest in 1990?"
   ]
  },
  {
   "cell_type": "code",
   "execution_count": 68,
   "id": "b15473e7",
   "metadata": {},
   "outputs": [
    {
     "name": "stdout",
     "output_type": "stream",
     "text": [
      "Enter Country name: Kenya\n",
      "0.008016941630508813 [1996]\n"
     ]
    }
   ],
   "source": [
    "#Lowest Death rate recorded per Country and the year\n",
    "Country=input('Enter Country name: ')\n",
    "mycountry=df.groupby('country')[['year','%_deaths']].get_group(Country)\n",
    "rmx=mycountry['%_deaths'].min()\n",
    "rmy=df.groupby('%_deaths')['year'].get_group(rmx)\n",
    "print(rmx,rmy.values)\n",
    "\n",
    "#Why was the number of death rate in Kenya lowest in 1996?"
   ]
  },
  {
   "cell_type": "code",
   "execution_count": 260,
   "id": "74c5a5bc",
   "metadata": {},
   "outputs": [
    {
     "name": "stdout",
     "output_type": "stream",
     "text": [
      "Enter Country name: Cape Verde\n",
      "Cape Verde uses the Right side of the road\n"
     ]
    }
   ],
   "source": [
    "#What side of the road a country uses\n",
    "Country=input('Enter Country name: ')\n",
    "print(Country,'uses the',df.groupby('country')['side'].get_group(Country).max(), 'side of the road')"
   ]
  },
  {
   "cell_type": "markdown",
   "id": "79fce25d",
   "metadata": {},
   "source": [
    "# DATA VISUALIZATION "
   ]
  },
  {
   "cell_type": "code",
   "execution_count": 69,
   "id": "4272f5c4",
   "metadata": {},
   "outputs": [
    {
     "data": {
      "image/png": "[encoded data removed]",
      "text/plain": [
       "<Figure size 360x360 with 1 Axes>"
      ]
     },
     "metadata": {
      "needs_background": "light"
     },
     "output_type": "display_data"
    }
   ],
   "source": [
    "#Visualizing deaths per side of the road\n",
    "\n",
    "sns.catplot(x=\"side\", y=\"%_deaths\", data=df)\n",
    "plt.title('Deaths as per Side');\n",
    "\n",
    "#This is probably because 75% of the countries use the right  side of the road"
   ]
  },
  {
   "cell_type": "code",
   "execution_count": 71,
   "id": "4cb0b313",
   "metadata": {},
   "outputs": [
    {
     "data": {
      "image/png": "[encoded data removed]",
      "text/plain": [
       "<Figure size 432x288 with 1 Axes>"
      ]
     },
     "metadata": {
      "needs_background": "light"
     },
     "output_type": "display_data"
    }
   ],
   "source": [
    "#plotting a bar chart\n",
    "x=df.side\n",
    "y=df['%_deaths']\n",
    "plt.xlabel('side')# set axis labels\n",
    "plt.ylabel('death_percentage') # set axis labels\n",
    "plt.title('Deaths as per Side') # set title\n",
    "plt.bar(x, y);\n",
    "\n",
    "#This is probably because 75% of the countries use the right  side of the road"
   ]
  },
  {
   "cell_type": "code",
   "execution_count": 91,
   "id": "df5c7466",
   "metadata": {},
   "outputs": [
    {
     "name": "stdout",
     "output_type": "stream",
     "text": [
      "Enter Country name: Kenya\n"
     ]
    },
    {
     "data": {
      "image/png": "[encoded data removed]",
      "text/plain": [
       "<Figure size 432x288 with 1 Axes>"
      ]
     },
     "metadata": {
      "needs_background": "light"
     },
     "output_type": "display_data"
    }
   ],
   "source": [
    "#Visualizing a histogram of deaths per country\n",
    "Country=input('Enter Country name: ')\n",
    "df.groupby('country')['deaths'].get_group(Country).hist();\n",
    "plt.title('Deaths Histogram in '+Country);\n",
    "\n",
    "#Most recorded deaths in Kenya were between 4250 and 4500 per year"
   ]
  },
  {
   "cell_type": "code",
   "execution_count": 107,
   "id": "5e65e13a",
   "metadata": {},
   "outputs": [
    {
     "name": "stdout",
     "output_type": "stream",
     "text": [
      "Enter Country name: Kenya\n"
     ]
    },
    {
     "data": {
      "image/png": "[encoded data removed]",
      "text/plain": [
       "<Figure size 720x360 with 1 Axes>"
      ]
     },
     "metadata": {
      "needs_background": "light"
     },
     "output_type": "display_data"
    }
   ],
   "source": [
    "#A line graph for percentage of deaths thro' the years in aparticular country\n",
    "Country=input('Enter Country name: ')\n",
    "mycountry=df.groupby('country')[['year','%_deaths']].get_group(Country)\n",
    "deaths_per_year=mycountry.groupby('year')['%_deaths'].mean() #drawing my dataframe\n",
    "x=deaths_per_year.index.tolist()\n",
    "y=deaths_per_year.values.tolist()\n",
    "plt.figure(figsize=(10, 5)) #setting size of graph\n",
    "plt.xlabel('Year') #labelling\n",
    "plt.ylabel('%_deaths') #labelling\n",
    "plt.title('Percentage of Deaths(1990-2019) in '+Country) #Title\n",
    "plt.plot(x,y, marker='p');\n",
    "\n",
    "#Why this trend?"
   ]
  },
  {
   "cell_type": "code",
   "execution_count": 147,
   "id": "be9db5ea",
   "metadata": {},
   "outputs": [
    {
     "data": {
      "image/png": "[encoded data removed]",
      "text/plain": [
       "<Figure size 720x360 with 1 Axes>"
      ]
     },
     "metadata": {
      "needs_background": "light"
     },
     "output_type": "display_data"
    }
   ],
   "source": [
    "#A line graph for deaths thro' the years\n",
    "deaths_per_year=df.groupby('year')['deaths'].mean() #drawing my dataframe\n",
    "x=deaths_per_year.index.tolist()\n",
    "y=deaths_per_year.values.tolist()\n",
    "plt.figure(figsize=(10, 5)) #setting size of graph\n",
    "plt.xlabel('Year') #labelling\n",
    "plt.ylabel('Deaths') #labelling\n",
    "plt.title('Deaths(1990-2019)') #Title\n",
    "plt.plot(x,y,marker='p');\n",
    "\n",
    "#Why did the number of deaths reduce over the years?\n",
    "#This could be explained by the increase in population over the years for eg in Kenya where population grew from 23m-52million "
   ]
  },
  {
   "cell_type": "code",
   "execution_count": 247,
   "id": "e523d7db",
   "metadata": {},
   "outputs": [
    {
     "data": {
      "image/png": "[encoded data removed]",
      "text/plain": [
       "<Figure size 720x360 with 1 Axes>"
      ]
     },
     "metadata": {
      "needs_background": "light"
     },
     "output_type": "display_data"
    }
   ],
   "source": [
    "#A line graph for percentage of deaths thro' the years\n",
    "deaths_per_year=df.groupby('year')['%_deaths'].mean() #drawing my dataframe\n",
    "x=deaths_per_year.index.tolist()\n",
    "y=deaths_per_year.values.tolist()\n",
    "plt.figure(figsize=(10, 5)) #setting size of graph\n",
    "plt.xlabel('Year') #labelling\n",
    "plt.ylabel('%_deaths') #labelling\n",
    "plt.title('Percentage of Deaths(1990-2019)') #Title\n",
    "plt.plot(x,y, marker='p');\n",
    "\n",
    "#Why did the percentage of death reduce over the years?"
   ]
  },
  {
   "cell_type": "code",
   "execution_count": 108,
   "id": "070b3f48",
   "metadata": {},
   "outputs": [
    {
     "name": "stdout",
     "output_type": "stream",
     "text": [
      "Enter Country name: Kenya\n"
     ]
    },
    {
     "data": {
      "image/png": "[encoded data removed]",
      "text/plain": [
       "<Figure size 1008x504 with 1 Axes>"
      ]
     },
     "metadata": {
      "needs_background": "light"
     },
     "output_type": "display_data"
    }
   ],
   "source": [
    "#Barplots for percentage of deaths per country through the years\n",
    "Country=input('Enter Country name: ') \n",
    "mycountry=df.groupby('country')[['year','%_deaths']].get_group(Country)\n",
    "yrs=df.year.unique()\n",
    "x=mycountry.year\n",
    "y=mycountry['%_deaths']\n",
    "plt.figure(figsize=(14,7))\n",
    "plt.xlabel('year')\n",
    "plt.ylabel('%_deaths')\n",
    "plt.xticks(yrs)\n",
    "plt.title('Percentage of deaths in '+Country+' through the years')\n",
    "plt.bar(x,y);\n",
    "\n",
    "#Why this trend?"
   ]
  },
  {
   "cell_type": "code",
   "execution_count": 83,
   "id": "31bdc966",
   "metadata": {},
   "outputs": [
    {
     "data": {
      "image/png": "[encoded data removed]",
      "text/plain": [
       "<Figure size 720x360 with 1 Axes>"
      ]
     },
     "metadata": {
      "needs_background": "light"
     },
     "output_type": "display_data"
    }
   ],
   "source": [
    "#Histogram of death percentages\n",
    "plt.figure(figsize=(10,5))\n",
    "plt.title('Deaths Histogram')\n",
    "plt.xlabel('%_deaths')\n",
    "plt.ylabel('Frequency')\n",
    "plt.hist(df['%_deaths'], bins=10, color='green');\n",
    "\n",
    "#The death rates in many countries are between 0.015-0.02\n",
    "#Least recorded death rate is 0.06"
   ]
  },
  {
   "cell_type": "code",
   "execution_count": 97,
   "id": "896b0ddf",
   "metadata": {},
   "outputs": [
    {
     "name": "stdout",
     "output_type": "stream",
     "text": [
      "Enter Country name: Kenya\n"
     ]
    },
    {
     "data": {
      "image/png": "[encoded data removed]",
      "text/plain": [
       "<Figure size 1008x360 with 1 Axes>"
      ]
     },
     "metadata": {
      "needs_background": "light"
     },
     "output_type": "display_data"
    }
   ],
   "source": [
    "Country=input('Enter Country name: ')\n",
    "mycountry=df.groupby('country')['%_deaths'].get_group(Country)\n",
    "plt.figure(figsize=(14,5))\n",
    "plt.title('Deaths Histogram in '+Country)\n",
    "plt.xlabel('%_deaths')\n",
    "plt.ylabel('Frequency')\n",
    "plt.hist(mycountry, bins=10, color='blue');\n",
    "\n",
    "#The highest recorded death rate in Kenya was 0.0100 which was in 2007\n",
    "#Why was it in 2007?"
   ]
  },
  {
   "cell_type": "code",
   "execution_count": 94,
   "id": "e988e3ce",
   "metadata": {},
   "outputs": [
    {
     "data": {
      "image/png": "[encoded data removed]",
      "text/plain": [
       "<Figure size 432x288 with 1 Axes>"
      ]
     },
     "metadata": {
      "needs_background": "light"
     },
     "output_type": "display_data"
    }
   ],
   "source": [
    "data = df[['%_deaths']]\n",
    "\n",
    "# create outlier point shape\n",
    "outlier = dict(markerfacecolor='b')\n",
    "\n",
    "# set title\n",
    "plt.title('%_Deaths')\n",
    "\n",
    "# make the boxplot\n",
    "plt.boxplot(data.values, labels=['%_deaths'],flierprops=outlier);#The data has  outliers"
   ]
  },
  {
   "cell_type": "markdown",
   "id": "50942f87",
   "metadata": {},
   "source": [
    "# BUILDING THE DATABASE"
   ]
  },
  {
   "cell_type": "code",
   "execution_count": 110,
   "id": "5e06b304",
   "metadata": {},
   "outputs": [],
   "source": [
    "#setting up connection with my sql\n",
    "\n",
    "import psycopg2 as psy\n",
    "conn=psy.connect(\"dbname='postgres' user='postgres' host='localhost' password='admin'\")\n",
    "cur=conn.cursor()"
   ]
  },
  {
   "cell_type": "code",
   "execution_count": 112,
   "id": "08486be6",
   "metadata": {},
   "outputs": [],
   "source": [
    "#Creating table Road_Accidents_Africa\n",
    "\n",
    "cur.execute('''create table Road_Accidents_Africa(\n",
    "Country varchar(30),\n",
    "Year smallint,\n",
    "Deaths smallint,\n",
    "Side varchar(6),\n",
    "Death_Rate double precision\n",
    ")''')"
   ]
  },
  {
   "cell_type": "code",
   "execution_count": 115,
   "id": "f07dc23d",
   "metadata": {},
   "outputs": [],
   "source": [
    "#Populating my table Road_Accidents_Africa\n",
    "\n",
    "code='''\n",
    "INSERT INTO Road_Accidents_Africa(Country,Year,Deaths,Side,Death_Rate) \n",
    "VALUES(%s,%s,%s,%s,%s)\n",
    "'''\n",
    "\n",
    "\n",
    "def inserting_to_Road_Accidents_Africa(s):\n",
    "    Country=s.country\n",
    "    Year=s.year\n",
    "    Deaths=s.deaths\n",
    "    Side=s.side\n",
    "    Death_Rate=s['%_deaths']\n",
    "    cols=(Country,Year,Deaths,Side,Death_Rate)\n",
    "    \n",
    "    cur.execute(code,cols)\n",
    "    \n",
    "for row_no,row in df.iterrows():\n",
    "    inserting_to_Road_Accidents_Africa(row)"
   ]
  },
  {
   "cell_type": "code",
   "execution_count": 116,
   "id": "7d084d47",
   "metadata": {},
   "outputs": [
    {
     "data": {
      "text/plain": [
       "[('Algeria', 1990, 13438, 'Right', 0.05216843346245907),\n",
       " ('Algeria', 1991, 13120, 'Right', 0.04969608872085146),\n",
       " ('Algeria', 1992, 13115, 'Right', 0.04852316069842273),\n",
       " ('Algeria', 1993, 13154, 'Right', 0.04759816868995069),\n",
       " ('Algeria', 1994, 13326, 'Right', 0.04723224402035927)]"
      ]
     },
     "execution_count": 116,
     "metadata": {},
     "output_type": "execute_result"
    }
   ],
   "source": [
    "#Fetching the first 5 rows of my table\n",
    "\n",
    "cur.execute('''select * from Road_Accidents_Africa \n",
    "''')\n",
    "cur.fetchmany(5)"
   ]
  },
  {
   "cell_type": "code",
   "execution_count": 126,
   "id": "475b6a97",
   "metadata": {},
   "outputs": [
    {
     "data": {
      "text/plain": [
       "3873"
      ]
     },
     "execution_count": 126,
     "metadata": {},
     "output_type": "execute_result"
    }
   ],
   "source": [
    "#Deaths in Kenya for the year 2007\n",
    "\n",
    "cur.execute('''select * from Road_Accidents_Africa where Country='Kenya' and Year=2007\n",
    "''')\n",
    "ky=cur.fetchall()\n",
    "ky[0][2]"
   ]
  },
  {
   "cell_type": "code",
   "execution_count": 128,
   "id": "c3a2e55b",
   "metadata": {},
   "outputs": [
    {
     "data": {
      "text/plain": [
       "[('Kenya', 1990, 1968, 'Left', 0.008295196364748214),\n",
       " ('Kenya', 1991, 2022, 'Left', 0.008245753131286011),\n",
       " ('Kenya', 1992, 2081, 'Left', 0.008216826291317094),\n",
       " ('Kenya', 1993, 2128, 'Left', 0.008141958723406681),\n",
       " ('Kenya', 1994, 2178, 'Left', 0.008081480319406224),\n",
       " ('Kenya', 1995, 2231, 'Left', 0.008034342185262567),\n",
       " ('Kenya', 1996, 2292, 'Left', 0.008016941630508813),\n",
       " ('Kenya', 1997, 2378, 'Left', 0.008084129337910487),\n",
       " ('Kenya', 1998, 2485, 'Left', 0.0082147435109146),\n",
       " ('Kenya', 1999, 2570, 'Left', 0.008263994294564063)]"
      ]
     },
     "execution_count": 128,
     "metadata": {},
     "output_type": "execute_result"
    }
   ],
   "source": [
    "#Data for Kenya 1990-1999\n",
    "cur.execute('''select * from Road_Accidents_Africa where Country='Kenya' \n",
    "''')\n",
    "cur.fetchmany(10)"
   ]
  }
 ],
 "metadata": {
  "kernelspec": {
   "display_name": "Python 3 (ipykernel)",
   "language": "python",
   "name": "python3"
  },
  "language_info": {
   "codemirror_mode": {
    "name": "ipython",
    "version": 3
   },
   "file_extension": ".py",
   "mimetype": "text/x-python",
   "name": "python",
   "nbconvert_exporter": "python",
   "pygments_lexer": "ipython3",
   "version": "3.9.7"
  }
 },
 "nbformat": 4,
 "nbformat_minor": 5
}
